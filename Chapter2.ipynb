{
 "cells": [
  {
   "cell_type": "markdown",
   "id": "892e3aec-6bda-42aa-8e57-185498f3c1d8",
   "metadata": {
    "jp-MarkdownHeadingCollapsed": true
   },
   "source": [
    "# 2.1 Building a Bayesian model for events (*categorical variables*)\n",
    "\n",
    "See: https://www.bayesrulesbook.com/chapter-2"
   ]
  },
  {
   "cell_type": "code",
   "execution_count": 1,
   "id": "3e7f525b-4bd6-4407-96a1-b708fe944851",
   "metadata": {},
   "outputs": [],
   "source": [
    "options(digits=3);"
   ]
  },
  {
   "cell_type": "code",
   "execution_count": 1,
   "id": "ccaac961-eae5-4a22-87d5-bb83591b9480",
   "metadata": {},
   "outputs": [
    {
     "name": "stderr",
     "output_type": "stream",
     "text": [
      "── \u001b[1mAttaching packages\u001b[22m ─────────────────────────────────────────────────────────────────────────────────────────────────────────────────────────── tidyverse 1.3.1 ──\n",
      "\n",
      "\u001b[32m✔\u001b[39m \u001b[34mggplot2\u001b[39m 3.5.0     \u001b[32m✔\u001b[39m \u001b[34mpurrr  \u001b[39m 1.0.2\n",
      "\u001b[32m✔\u001b[39m \u001b[34mtibble \u001b[39m 3.1.6     \u001b[32m✔\u001b[39m \u001b[34mdplyr  \u001b[39m 1.0.8\n",
      "\u001b[32m✔\u001b[39m \u001b[34mtidyr  \u001b[39m 1.2.0     \u001b[32m✔\u001b[39m \u001b[34mstringr\u001b[39m 1.4.0\n",
      "\u001b[32m✔\u001b[39m \u001b[34mreadr  \u001b[39m 2.1.2     \u001b[32m✔\u001b[39m \u001b[34mforcats\u001b[39m 0.5.1\n",
      "\n",
      "── \u001b[1mConflicts\u001b[22m ────────────────────────────────────────────────────────────────────────────────────────────────────────────────────────────── tidyverse_conflicts() ──\n",
      "\u001b[31m✖\u001b[39m \u001b[34mdplyr\u001b[39m::\u001b[32mfilter()\u001b[39m masks \u001b[34mstats\u001b[39m::filter()\n",
      "\u001b[31m✖\u001b[39m \u001b[34mdplyr\u001b[39m::\u001b[32mlag()\u001b[39m    masks \u001b[34mstats\u001b[39m::lag()\n",
      "\n",
      "\n",
      "Attaching package: ‘janitor’\n",
      "\n",
      "\n",
      "The following objects are masked from ‘package:stats’:\n",
      "\n",
      "    chisq.test, fisher.test\n",
      "\n",
      "\n"
     ]
    }
   ],
   "source": [
    "# Load packages\n",
    "library(bayesrules);\n",
    "library(tidyverse);\n",
    "library(janitor);\n",
    "\n",
    "# Import article data\n",
    "data(fake_news);"
   ]
  },
  {
   "cell_type": "code",
   "execution_count": 2,
   "id": "155d21ca-4c4e-4b29-9bd4-342c98da0092",
   "metadata": {
    "scrolled": true
   },
   "outputs": [
    {
     "data": {
      "text/html": [
       "\n",
       "<table width=\"100%\" summary=\"page for fake_news {bayesrules}\"><tr><td>fake_news {bayesrules}</td><td style=\"text-align: right;\">R Documentation</td></tr></table>\n",
       "\n",
       "<h2>A collection of 150 news articles</h2>\n",
       "\n",
       "<h3>Description</h3>\n",
       "\n",
       "<p>A dataset containing data behind the study\n",
       "&quot;FakeNewsNet: A Data Repository with News Content, Social Context and Spatialtemporal Information for Studying Fake News on Social Media&quot;\n",
       "<a href=\"https://arxiv.org/abs/1809.01286\">https://arxiv.org/abs/1809.01286</a>.\n",
       "The news articles in this dataset were posted to Facebook in September 2016, in the run-up to the U.S. presidential election.\n",
       "</p>\n",
       "\n",
       "\n",
       "<h3>Usage</h3>\n",
       "\n",
       "<pre>\n",
       "fake_news\n",
       "</pre>\n",
       "\n",
       "\n",
       "<h3>Format</h3>\n",
       "\n",
       "<p>A data frame with 150 rows and 6 variables:\n",
       "</p>\n",
       "\n",
       "<dl>\n",
       "<dt>title</dt><dd><p>The title of the news article</p>\n",
       "</dd>\n",
       "<dt>text</dt><dd><p>Text of the article</p>\n",
       "</dd>\n",
       "<dt>url</dt><dd><p>Hyperlink for the article</p>\n",
       "</dd>\n",
       "<dt>authors</dt><dd><p>Authors of the article</p>\n",
       "</dd>\n",
       "<dt>type</dt><dd><p>Binary variable indicating whether the article presents fake or real news(fake, real)</p>\n",
       "</dd>\n",
       "<dt>title_words</dt><dd><p>Number of words in the title</p>\n",
       "</dd>\n",
       "<dt>text_words</dt><dd><p>Number of words in the text</p>\n",
       "</dd>\n",
       "<dt>title_char</dt><dd><p>Number of characters in the title</p>\n",
       "</dd>\n",
       "<dt>text_char</dt><dd><p>Number of characters in the text</p>\n",
       "</dd>\n",
       "<dt>title_caps</dt><dd><p>Number of words that are all capital letters in the title</p>\n",
       "</dd>\n",
       "<dt>text_caps</dt><dd><p>Number of words that are all capital letters in the text</p>\n",
       "</dd>\n",
       "<dt>title_caps_percent</dt><dd><p>Percent of words that are all capital letters in the title</p>\n",
       "</dd>\n",
       "<dt>text_caps_percent</dt><dd><p>Percent of words that are all capital letters in the text</p>\n",
       "</dd>\n",
       "<dt>title_excl</dt><dd><p>Number of characters that are exclamation marks in the title</p>\n",
       "</dd>\n",
       "<dt>text_excl</dt><dd><p>Number of characters that are exclamation marks in the text</p>\n",
       "</dd>\n",
       "<dt>title_excl_percent</dt><dd><p>Percent of characters that are exclamation marks in the title</p>\n",
       "</dd>\n",
       "<dt>text_excl_percent</dt><dd><p>Percent of characters that are exclamation marks in the text</p>\n",
       "</dd>\n",
       "<dt>title_has_excl</dt><dd><p>Binary variable indicating whether the title of the article includes an exlamation point or not(TRUE, FALSE)</p>\n",
       "</dd>\n",
       "<dt>anger</dt><dd><p>Percent of words that are associated with anger</p>\n",
       "</dd>\n",
       "<dt>anticipation</dt><dd><p>Percent of words that are associated with anticipation</p>\n",
       "</dd>\n",
       "<dt>disgust</dt><dd><p>Percent of words that are associated with disgust</p>\n",
       "</dd>\n",
       "<dt>fear</dt><dd><p>Percent of words that are associated with fear</p>\n",
       "</dd>\n",
       "<dt>joy</dt><dd><p>Percent of words that are associated with joy</p>\n",
       "</dd>\n",
       "<dt>sadness</dt><dd><p>Percent of words that are associated with sadness</p>\n",
       "</dd>\n",
       "<dt>surprise</dt><dd><p>Percent of words that are associated with surprise</p>\n",
       "</dd>\n",
       "<dt>trust</dt><dd><p>Percent of words that are associated with trust</p>\n",
       "</dd>\n",
       "<dt>negative</dt><dd><p>Percent of words that have negative sentiment</p>\n",
       "</dd>\n",
       "<dt>positive</dt><dd><p>Percent of words that have positive sentiment</p>\n",
       "</dd>\n",
       "<dt>text_syllables</dt><dd><p>Number of syllables in text</p>\n",
       "</dd>\n",
       "<dt>text_syllables_per_word</dt><dd><p>Number of syllables per word in text</p>\n",
       "</dd>\n",
       "</dl>\n",
       "\n",
       "\n",
       "\n",
       "<h3>Source</h3>\n",
       "\n",
       "<p>Shu, K., Mahudeswaran, D., Wang, S., Lee, D. and Liu, H. (2018) FakeNewsNet: A Data Repository with News Content, Social Context and Dynamic Information for Studying Fake News on Social Media\n",
       "</p>\n",
       "\n",
       "<hr /><div style=\"text-align: center;\">[Package <em>bayesrules</em> version 0.0.2 ]</div>"
      ],
      "text/latex": [
       "\\inputencoding{utf8}\n",
       "\\HeaderA{fake\\_news}{A collection of 150 news articles}{fake.Rul.news}\n",
       "\\keyword{datasets}{fake\\_news}\n",
       "%\n",
       "\\begin{Description}\\relax\n",
       "A dataset containing data behind the study\n",
       "\"FakeNewsNet: A Data Repository with News Content, Social Context and Spatialtemporal Information for Studying Fake News on Social Media\"\n",
       "\\url{https://arxiv.org/abs/1809.01286}.\n",
       "The news articles in this dataset were posted to Facebook in September 2016, in the run-up to the U.S. presidential election.\n",
       "\\end{Description}\n",
       "%\n",
       "\\begin{Usage}\n",
       "\\begin{verbatim}\n",
       "fake_news\n",
       "\\end{verbatim}\n",
       "\\end{Usage}\n",
       "%\n",
       "\\begin{Format}\n",
       "A data frame with 150 rows and 6 variables:\n",
       "\\begin{description}\n",
       "\n",
       "\\item[title] The title of the news article\n",
       "\\item[text] Text of the article\n",
       "\\item[url] Hyperlink for the article\n",
       "\\item[authors] Authors of the article\n",
       "\\item[type] Binary variable indicating whether the article presents fake or real news(fake, real)\n",
       "\\item[title\\_words] Number of words in the title\n",
       "\\item[text\\_words] Number of words in the text\n",
       "\\item[title\\_char] Number of characters in the title\n",
       "\\item[text\\_char] Number of characters in the text\n",
       "\\item[title\\_caps] Number of words that are all capital letters in the title\n",
       "\\item[text\\_caps] Number of words that are all capital letters in the text\n",
       "\\item[title\\_caps\\_percent] Percent of words that are all capital letters in the title\n",
       "\\item[text\\_caps\\_percent] Percent of words that are all capital letters in the text\n",
       "\\item[title\\_excl] Number of characters that are exclamation marks in the title\n",
       "\\item[text\\_excl] Number of characters that are exclamation marks in the text\n",
       "\\item[title\\_excl\\_percent] Percent of characters that are exclamation marks in the title\n",
       "\\item[text\\_excl\\_percent] Percent of characters that are exclamation marks in the text\n",
       "\\item[title\\_has\\_excl] Binary variable indicating whether the title of the article includes an exlamation point or not(TRUE, FALSE)\n",
       "\\item[anger] Percent of words that are associated with anger\n",
       "\\item[anticipation] Percent of words that are associated with anticipation\n",
       "\\item[disgust] Percent of words that are associated with disgust\n",
       "\\item[fear] Percent of words that are associated with fear\n",
       "\\item[joy] Percent of words that are associated with joy\n",
       "\\item[sadness] Percent of words that are associated with sadness\n",
       "\\item[surprise] Percent of words that are associated with surprise\n",
       "\\item[trust] Percent of words that are associated with trust\n",
       "\\item[negative] Percent of words that have negative sentiment\n",
       "\\item[positive] Percent of words that have positive sentiment\n",
       "\\item[text\\_syllables] Number of syllables in text\n",
       "\\item[text\\_syllables\\_per\\_word] Number of syllables per word in text\n",
       "\n",
       "\\end{description}\n",
       "\n",
       "\\end{Format}\n",
       "%\n",
       "\\begin{Source}\\relax\n",
       "Shu, K., Mahudeswaran, D., Wang, S., Lee, D. and Liu, H. (2018) FakeNewsNet: A Data Repository with News Content, Social Context and Dynamic Information for Studying Fake News on Social Media\n",
       "\\end{Source}"
      ],
      "text/plain": [
       "fake_news              package:bayesrules              R Documentation\n",
       "\n",
       "_\bA _\bc_\bo_\bl_\bl_\be_\bc_\bt_\bi_\bo_\bn _\bo_\bf _\b1_\b5_\b0 _\bn_\be_\bw_\bs _\ba_\br_\bt_\bi_\bc_\bl_\be_\bs\n",
       "\n",
       "_\bD_\be_\bs_\bc_\br_\bi_\bp_\bt_\bi_\bo_\bn:\n",
       "\n",
       "     A dataset containing data behind the study \"FakeNewsNet: A Data\n",
       "     Repository with News Content, Social Context and Spatialtemporal\n",
       "     Information for Studying Fake News on Social Media\" <URL:\n",
       "     https://arxiv.org/abs/1809.01286>. The news articles in this\n",
       "     dataset were posted to Facebook in September 2016, in the run-up\n",
       "     to the U.S. presidential election.\n",
       "\n",
       "_\bU_\bs_\ba_\bg_\be:\n",
       "\n",
       "     fake_news\n",
       "     \n",
       "_\bF_\bo_\br_\bm_\ba_\bt:\n",
       "\n",
       "     A data frame with 150 rows and 6 variables:\n",
       "\n",
       "     title The title of the news article\n",
       "\n",
       "     text Text of the article\n",
       "\n",
       "     url Hyperlink for the article\n",
       "\n",
       "     authors Authors of the article\n",
       "\n",
       "     type Binary variable indicating whether the article presents fake\n",
       "          or real news(fake, real)\n",
       "\n",
       "     title_words Number of words in the title\n",
       "\n",
       "     text_words Number of words in the text\n",
       "\n",
       "     title_char Number of characters in the title\n",
       "\n",
       "     text_char Number of characters in the text\n",
       "\n",
       "     title_caps Number of words that are all capital letters in the\n",
       "          title\n",
       "\n",
       "     text_caps Number of words that are all capital letters in the text\n",
       "\n",
       "     title_caps_percent Percent of words that are all capital letters\n",
       "          in the title\n",
       "\n",
       "     text_caps_percent Percent of words that are all capital letters in\n",
       "          the text\n",
       "\n",
       "     title_excl Number of characters that are exclamation marks in the\n",
       "          title\n",
       "\n",
       "     text_excl Number of characters that are exclamation marks in the\n",
       "          text\n",
       "\n",
       "     title_excl_percent Percent of characters that are exclamation\n",
       "          marks in the title\n",
       "\n",
       "     text_excl_percent Percent of characters that are exclamation marks\n",
       "          in the text\n",
       "\n",
       "     title_has_excl Binary variable indicating whether the title of the\n",
       "          article includes an exlamation point or not(TRUE, FALSE)\n",
       "\n",
       "     anger Percent of words that are associated with anger\n",
       "\n",
       "     anticipation Percent of words that are associated with\n",
       "          anticipation\n",
       "\n",
       "     disgust Percent of words that are associated with disgust\n",
       "\n",
       "     fear Percent of words that are associated with fear\n",
       "\n",
       "     joy Percent of words that are associated with joy\n",
       "\n",
       "     sadness Percent of words that are associated with sadness\n",
       "\n",
       "     surprise Percent of words that are associated with surprise\n",
       "\n",
       "     trust Percent of words that are associated with trust\n",
       "\n",
       "     negative Percent of words that have negative sentiment\n",
       "\n",
       "     positive Percent of words that have positive sentiment\n",
       "\n",
       "     text_syllables Number of syllables in text\n",
       "\n",
       "     text_syllables_per_word Number of syllables per word in text\n",
       "\n",
       "_\bS_\bo_\bu_\br_\bc_\be:\n",
       "\n",
       "     Shu, K., Mahudeswaran, D., Wang, S., Lee, D. and Liu, H. (2018)\n",
       "     FakeNewsNet: A Data Repository with News Content, Social Context\n",
       "     and Dynamic Information for Studying Fake News on Social Media\n"
      ]
     },
     "metadata": {},
     "output_type": "display_data"
    }
   ],
   "source": [
    "?fake_news"
   ]
  },
  {
   "cell_type": "code",
   "execution_count": 28,
   "id": "392ae6bf-d0d7-4de8-9b5f-9a4dbd22689d",
   "metadata": {},
   "outputs": [
    {
     "data": {
      "text/html": [
       "<table class=\"dataframe\">\n",
       "<caption>A tabyl: 3 × 3</caption>\n",
       "<thead>\n",
       "\t<tr><th></th><th scope=col>type</th><th scope=col>n</th><th scope=col>percent</th></tr>\n",
       "\t<tr><th></th><th scope=col>&lt;fct&gt;</th><th scope=col>&lt;int&gt;</th><th scope=col>&lt;dbl&gt;</th></tr>\n",
       "</thead>\n",
       "<tbody>\n",
       "\t<tr><th scope=row>1</th><td>fake </td><td> 60</td><td>0.4</td></tr>\n",
       "\t<tr><th scope=row>2</th><td>real </td><td> 90</td><td>0.6</td></tr>\n",
       "\t<tr><th scope=row>3</th><td>Total</td><td>150</td><td>1.0</td></tr>\n",
       "</tbody>\n",
       "</table>\n"
      ],
      "text/latex": [
       "A tabyl: 3 × 3\n",
       "\\begin{tabular}{r|lll}\n",
       "  & type & n & percent\\\\\n",
       "  & <fct> & <int> & <dbl>\\\\\n",
       "\\hline\n",
       "\t1 & fake  &  60 & 0.4\\\\\n",
       "\t2 & real  &  90 & 0.6\\\\\n",
       "\t3 & Total & 150 & 1.0\\\\\n",
       "\\end{tabular}\n"
      ],
      "text/markdown": [
       "\n",
       "A tabyl: 3 × 3\n",
       "\n",
       "| <!--/--> | type &lt;fct&gt; | n &lt;int&gt; | percent &lt;dbl&gt; |\n",
       "|---|---|---|---|\n",
       "| 1 | fake  |  60 | 0.4 |\n",
       "| 2 | real  |  90 | 0.6 |\n",
       "| 3 | Total | 150 | 1.0 |\n",
       "\n"
      ],
      "text/plain": [
       "  type  n   percent\n",
       "1 fake   60 0.4    \n",
       "2 real   90 0.6    \n",
       "3 Total 150 1.0    "
      ]
     },
     "metadata": {},
     "output_type": "display_data"
    }
   ],
   "source": [
    "fake_news  %>% \n",
    "  tabyl(type) %>% \n",
    "  adorn_totals(\"row\")"
   ]
  },
  {
   "cell_type": "code",
   "execution_count": 4,
   "id": "5594226e-c4df-41e3-9960-8b1557db64cf",
   "metadata": {},
   "outputs": [
    {
     "data": {
      "text/html": [
       "<table class=\"dataframe\">\n",
       "<caption>A tabyl: 3 × 3</caption>\n",
       "<thead>\n",
       "\t<tr><th></th><th scope=col>title_has_excl</th><th scope=col>fake</th><th scope=col>real</th></tr>\n",
       "\t<tr><th></th><th scope=col>&lt;chr&gt;</th><th scope=col>&lt;dbl&gt;</th><th scope=col>&lt;dbl&gt;</th></tr>\n",
       "</thead>\n",
       "<tbody>\n",
       "\t<tr><th scope=row>1</th><td>FALSE</td><td>44</td><td>88</td></tr>\n",
       "\t<tr><th scope=row>2</th><td>TRUE </td><td>16</td><td> 2</td></tr>\n",
       "\t<tr><th scope=row>3</th><td>Total</td><td>60</td><td>90</td></tr>\n",
       "</tbody>\n",
       "</table>\n"
      ],
      "text/latex": [
       "A tabyl: 3 × 3\n",
       "\\begin{tabular}{r|lll}\n",
       "  & title\\_has\\_excl & fake & real\\\\\n",
       "  & <chr> & <dbl> & <dbl>\\\\\n",
       "\\hline\n",
       "\t1 & FALSE & 44 & 88\\\\\n",
       "\t2 & TRUE  & 16 &  2\\\\\n",
       "\t3 & Total & 60 & 90\\\\\n",
       "\\end{tabular}\n"
      ],
      "text/markdown": [
       "\n",
       "A tabyl: 3 × 3\n",
       "\n",
       "| <!--/--> | title_has_excl &lt;chr&gt; | fake &lt;dbl&gt; | real &lt;dbl&gt; |\n",
       "|---|---|---|---|\n",
       "| 1 | FALSE | 44 | 88 |\n",
       "| 2 | TRUE  | 16 |  2 |\n",
       "| 3 | Total | 60 | 90 |\n",
       "\n"
      ],
      "text/plain": [
       "  title_has_excl fake real\n",
       "1 FALSE          44   88  \n",
       "2 TRUE           16    2  \n",
       "3 Total          60   90  "
      ]
     },
     "metadata": {},
     "output_type": "display_data"
    }
   ],
   "source": [
    "fake_news %>% tabyl(title_has_excgl, type) %>% adorn_totals(\"row\")"
   ]
  },
  {
   "cell_type": "code",
   "execution_count": 4,
   "id": "8a9712d8-bb72-4f61-b361-75d6c6f00d52",
   "metadata": {},
   "outputs": [],
   "source": [
    "# Define possible articles\n",
    "article <- data.frame(type = c(\"real\", \"fake\"))\n",
    "\n",
    "# Define the prior model\n",
    "prior <- c(0.6, 0.4)"
   ]
  },
  {
   "cell_type": "code",
   "execution_count": 6,
   "id": "ae7573f3-5928-4cef-9b07-6678b45af3f9",
   "metadata": {},
   "outputs": [
    {
     "data": {
      "text/html": [
       "<table class=\"dataframe\">\n",
       "<caption>A data.frame: 3 × 1</caption>\n",
       "<thead>\n",
       "\t<tr><th scope=col>type</th></tr>\n",
       "\t<tr><th scope=col>&lt;chr&gt;</th></tr>\n",
       "</thead>\n",
       "<tbody>\n",
       "\t<tr><td>fake</td></tr>\n",
       "\t<tr><td>fake</td></tr>\n",
       "\t<tr><td>real</td></tr>\n",
       "</tbody>\n",
       "</table>\n"
      ],
      "text/latex": [
       "A data.frame: 3 × 1\n",
       "\\begin{tabular}{l}\n",
       " type\\\\\n",
       " <chr>\\\\\n",
       "\\hline\n",
       "\t fake\\\\\n",
       "\t fake\\\\\n",
       "\t real\\\\\n",
       "\\end{tabular}\n"
      ],
      "text/markdown": [
       "\n",
       "A data.frame: 3 × 1\n",
       "\n",
       "| type &lt;chr&gt; |\n",
       "|---|\n",
       "| fake |\n",
       "| fake |\n",
       "| real |\n",
       "\n"
      ],
      "text/plain": [
       "  type\n",
       "1 fake\n",
       "2 fake\n",
       "3 real"
      ]
     },
     "metadata": {},
     "output_type": "display_data"
    }
   ],
   "source": [
    "# Simulate 3 articles\n",
    "set.seed(84735)\n",
    "sample_n(article, size = 3, weight = prior, replace = TRUE)"
   ]
  },
  {
   "cell_type": "code",
   "execution_count": 5,
   "id": "56e39850-c684-4bd4-a935-4ff2818b4db9",
   "metadata": {},
   "outputs": [],
   "source": [
    "# Simulate 10000 articles\n",
    "set.seed(84735)\n",
    "article_sim <- sample_n(article, size = 10000, weight = prior, replace = TRUE)"
   ]
  },
  {
   "cell_type": "code",
   "execution_count": 8,
   "id": "cf16dd47-1ac5-4ec2-9f35-e9c28e623130",
   "metadata": {},
   "outputs": [
    {
     "data": {
      "image/png": "[encoded data removed]",
      "text/plain": [
       "plot without title"
      ]
     },
     "metadata": {
      "image/png": {
       "height": 420,
       "width": 420
      }
     },
     "output_type": "display_data"
    }
   ],
   "source": [
    "# A bar plot of the fake vs real status of 10,000 simulated articles\n",
    "ggplot(article_sim, aes(x = type)) +  geom_bar()"
   ]
  },
  {
   "cell_type": "code",
   "execution_count": 9,
   "id": "b6b876cd-add3-485b-805f-62d96d2c2be2",
   "metadata": {},
   "outputs": [
    {
     "data": {
      "text/html": [
       "<table class=\"dataframe\">\n",
       "<caption>A tabyl: 3 × 3</caption>\n",
       "<thead>\n",
       "\t<tr><th></th><th scope=col>type</th><th scope=col>n</th><th scope=col>percent</th></tr>\n",
       "\t<tr><th></th><th scope=col>&lt;chr&gt;</th><th scope=col>&lt;int&gt;</th><th scope=col>&lt;dbl&gt;</th></tr>\n",
       "</thead>\n",
       "<tbody>\n",
       "\t<tr><th scope=row>1</th><td>fake </td><td> 4031</td><td>0.403</td></tr>\n",
       "\t<tr><th scope=row>2</th><td>real </td><td> 5969</td><td>0.597</td></tr>\n",
       "\t<tr><th scope=row>3</th><td>Total</td><td>10000</td><td>1.000</td></tr>\n",
       "</tbody>\n",
       "</table>\n"
      ],
      "text/latex": [
       "A tabyl: 3 × 3\n",
       "\\begin{tabular}{r|lll}\n",
       "  & type & n & percent\\\\\n",
       "  & <chr> & <int> & <dbl>\\\\\n",
       "\\hline\n",
       "\t1 & fake  &  4031 & 0.403\\\\\n",
       "\t2 & real  &  5969 & 0.597\\\\\n",
       "\t3 & Total & 10000 & 1.000\\\\\n",
       "\\end{tabular}\n"
      ],
      "text/markdown": [
       "\n",
       "A tabyl: 3 × 3\n",
       "\n",
       "| <!--/--> | type &lt;chr&gt; | n &lt;int&gt; | percent &lt;dbl&gt; |\n",
       "|---|---|---|---|\n",
       "| 1 | fake  |  4031 | 0.403 |\n",
       "| 2 | real  |  5969 | 0.597 |\n",
       "| 3 | Total | 10000 | 1.000 |\n",
       "\n"
      ],
      "text/plain": [
       "  type  n     percent\n",
       "1 fake   4031 0.403  \n",
       "2 real   5969 0.597  \n",
       "3 Total 10000 1.000  "
      ]
     },
     "metadata": {},
     "output_type": "display_data"
    }
   ],
   "source": [
    "article_sim %>% \n",
    "  tabyl(type) %>% \n",
    "  adorn_totals(\"row\")"
   ]
  },
  {
   "cell_type": "code",
   "execution_count": 9,
   "id": "b39ee8a4-44a9-4026-a704-2cff3f1f84a7",
   "metadata": {},
   "outputs": [],
   "source": [
    "# let’s simulate the exclamation point usage among these 10,000 articles.\n",
    "article_sim <- article_sim %>% \n",
    "  mutate(data_model = case_when(type == \"fake\" ~ 0.2667,\n",
    "                                type == \"real\" ~ 0.0222))"
   ]
  },
  {
   "cell_type": "code",
   "execution_count": 13,
   "id": "04e63137-e6a1-4717-85c3-d88880331e36",
   "metadata": {},
   "outputs": [
    {
     "name": "stdout",
     "output_type": "stream",
     "text": [
      "Rows: 10,000\n",
      "Columns: 2\n",
      "$ type       \u001b[3m\u001b[90m<chr>\u001b[39m\u001b[23m \"fake\", \"fake\", \"real\", \"fake\", \"fake\", \"real\", \"real\", \"re…\n",
      "$ data_model \u001b[3m\u001b[90m<dbl>\u001b[39m\u001b[23m 0.2667, 0.2667, 0.0222, 0.2667, 0.2667, 0.0222, 0.0222, 0.0…\n"
     ]
    }
   ],
   "source": [
    "glimpse(article_sim)"
   ]
  },
  {
   "cell_type": "code",
   "execution_count": 16,
   "id": "05ad718d-84f5-44b5-b7aa-d4be274219ec",
   "metadata": {},
   "outputs": [],
   "source": [
    "data <- c(\"no\", \"yes\")\n",
    "\n",
    "# Simulate exclamation point usage \n",
    "set.seed(3)\n",
    "article_sim <- article_sim %>%\n",
    "  group_by(1:n()) %>% \n",
    "  mutate(usage = sample(data, size = 1, \n",
    "                        prob = c(1 - data_model, data_model)))"
   ]
  },
  {
   "cell_type": "code",
   "execution_count": 17,
   "id": "178b8aa4-4be3-4e3b-b1e6-f26ad1ea42ce",
   "metadata": {},
   "outputs": [
    {
     "data": {
      "text/html": [
       "<table class=\"dataframe\">\n",
       "<caption>A tabyl: 3 × 4</caption>\n",
       "<thead>\n",
       "\t<tr><th></th><th scope=col>usage</th><th scope=col>fake</th><th scope=col>real</th><th scope=col>Total</th></tr>\n",
       "\t<tr><th></th><th scope=col>&lt;chr&gt;</th><th scope=col>&lt;dbl&gt;</th><th scope=col>&lt;dbl&gt;</th><th scope=col>&lt;dbl&gt;</th></tr>\n",
       "</thead>\n",
       "<tbody>\n",
       "\t<tr><th scope=row>1</th><td>no   </td><td>2961</td><td>5833</td><td> 8794</td></tr>\n",
       "\t<tr><th scope=row>2</th><td>yes  </td><td>1070</td><td> 136</td><td> 1206</td></tr>\n",
       "\t<tr><th scope=row>3</th><td>Total</td><td>4031</td><td>5969</td><td>10000</td></tr>\n",
       "</tbody>\n",
       "</table>\n"
      ],
      "text/latex": [
       "A tabyl: 3 × 4\n",
       "\\begin{tabular}{r|llll}\n",
       "  & usage & fake & real & Total\\\\\n",
       "  & <chr> & <dbl> & <dbl> & <dbl>\\\\\n",
       "\\hline\n",
       "\t1 & no    & 2961 & 5833 &  8794\\\\\n",
       "\t2 & yes   & 1070 &  136 &  1206\\\\\n",
       "\t3 & Total & 4031 & 5969 & 10000\\\\\n",
       "\\end{tabular}\n"
      ],
      "text/markdown": [
       "\n",
       "A tabyl: 3 × 4\n",
       "\n",
       "| <!--/--> | usage &lt;chr&gt; | fake &lt;dbl&gt; | real &lt;dbl&gt; | Total &lt;dbl&gt; |\n",
       "|---|---|---|---|---|\n",
       "| 1 | no    | 2961 | 5833 |  8794 |\n",
       "| 2 | yes   | 1070 |  136 |  1206 |\n",
       "| 3 | Total | 4031 | 5969 | 10000 |\n",
       "\n"
      ],
      "text/plain": [
       "  usage fake real Total\n",
       "1 no    2961 5833  8794\n",
       "2 yes   1070  136  1206\n",
       "3 Total 4031 5969 10000"
      ]
     },
     "metadata": {},
     "output_type": "display_data"
    }
   ],
   "source": [
    "article_sim %>% \n",
    "  tabyl(usage, type) %>% \n",
    "  adorn_totals(c(\"col\",\"row\"))"
   ]
  },
  {
   "cell_type": "code",
   "execution_count": 14,
   "id": "a4e49964-ca0c-4bf9-8c27-3a3209931e0f",
   "metadata": {},
   "outputs": [
    {
     "data": {
      "image/png": "[encoded data removed]",
      "text/plain": [
       "plot without title"
      ]
     },
     "metadata": {
      "image/png": {
       "height": 420,
       "width": 420
      }
     },
     "output_type": "display_data"
    },
    {
     "data": {
      "image/png": "[encoded data removed]",
      "text/plain": [
       "plot without title"
      ]
     },
     "metadata": {
      "image/png": {
       "height": 420,
       "width": 420
      }
     },
     "output_type": "display_data"
    }
   ],
   "source": [
    "ggplot(article_sim, aes(x = type, fill = usage)) + \n",
    "  geom_bar(position = \"fill\")\n",
    "ggplot(article_sim, aes(x = type)) + \n",
    "  geom_bar()"
   ]
  },
  {
   "cell_type": "code",
   "execution_count": 15,
   "id": "998139b4-4227-4cbd-ba61-3297297be22f",
   "metadata": {},
   "outputs": [
    {
     "data": {
      "text/html": [
       "<table class=\"dataframe\">\n",
       "<caption>A tabyl: 3 × 3</caption>\n",
       "<thead>\n",
       "\t<tr><th></th><th scope=col>type</th><th scope=col>n</th><th scope=col>percent</th></tr>\n",
       "\t<tr><th></th><th scope=col>&lt;chr&gt;</th><th scope=col>&lt;int&gt;</th><th scope=col>&lt;dbl&gt;</th></tr>\n",
       "</thead>\n",
       "<tbody>\n",
       "\t<tr><th scope=row>1</th><td>fake </td><td>1070</td><td>0.887</td></tr>\n",
       "\t<tr><th scope=row>2</th><td>real </td><td> 136</td><td>0.113</td></tr>\n",
       "\t<tr><th scope=row>3</th><td>Total</td><td>1206</td><td>1.000</td></tr>\n",
       "</tbody>\n",
       "</table>\n"
      ],
      "text/latex": [
       "A tabyl: 3 × 3\n",
       "\\begin{tabular}{r|lll}\n",
       "  & type & n & percent\\\\\n",
       "  & <chr> & <int> & <dbl>\\\\\n",
       "\\hline\n",
       "\t1 & fake  & 1070 & 0.887\\\\\n",
       "\t2 & real  &  136 & 0.113\\\\\n",
       "\t3 & Total & 1206 & 1.000\\\\\n",
       "\\end{tabular}\n"
      ],
      "text/markdown": [
       "\n",
       "A tabyl: 3 × 3\n",
       "\n",
       "| <!--/--> | type &lt;chr&gt; | n &lt;int&gt; | percent &lt;dbl&gt; |\n",
       "|---|---|---|---|\n",
       "| 1 | fake  | 1070 | 0.887 |\n",
       "| 2 | real  |  136 | 0.113 |\n",
       "| 3 | Total | 1206 | 1.000 |\n",
       "\n"
      ],
      "text/plain": [
       "  type  n    percent\n",
       "1 fake  1070 0.887  \n",
       "2 real   136 0.113  \n",
       "3 Total 1206 1.000  "
      ]
     },
     "metadata": {},
     "output_type": "display_data"
    }
   ],
   "source": [
    "article_sim %>% \n",
    "  filter(usage == \"yes\") %>% \n",
    "  tabyl(type) %>% \n",
    "  adorn_totals(\"row\")"
   ]
  },
  {
   "cell_type": "code",
   "execution_count": 16,
   "id": "2473d115-8061-4fc5-80b5-e48553bff2e8",
   "metadata": {},
   "outputs": [
    {
     "data": {
      "image/png": "[encoded data removed]",
      "text/plain": [
       "plot without title"
      ]
     },
     "metadata": {
      "image/png": {
       "height": 420,
       "width": 420
      }
     },
     "output_type": "display_data"
    }
   ],
   "source": [
    "ggplot(article_sim, aes(x = type)) + \n",
    "  geom_bar() + \n",
    "  facet_wrap(~ usage)"
   ]
  },
  {
   "cell_type": "markdown",
   "id": "f3f06d58-a42b-421c-97f6-330362258b18",
   "metadata": {},
   "source": [
    "# 2.2 Example: Pop vs soda vs coke"
   ]
  },
  {
   "cell_type": "code",
   "execution_count": 42,
   "id": "a8272b40-3f00-4c73-8fe8-3f2f2bf278eb",
   "metadata": {},
   "outputs": [
    {
     "data": {
      "text/html": [
       "<table class=\"dataframe\">\n",
       "<caption>A tabyl: 5 × 3</caption>\n",
       "<thead>\n",
       "\t<tr><th></th><th scope=col>region</th><th scope=col>n</th><th scope=col>percent</th></tr>\n",
       "\t<tr><th></th><th scope=col>&lt;fct&gt;</th><th scope=col>&lt;int&gt;</th><th scope=col>&lt;dbl&gt;</th></tr>\n",
       "</thead>\n",
       "<tbody>\n",
       "\t<tr><th scope=row>1</th><td>midwest  </td><td>145096</td><td>0.3876981</td></tr>\n",
       "\t<tr><th scope=row>2</th><td>northeast</td><td> 77188</td><td>0.2062472</td></tr>\n",
       "\t<tr><th scope=row>3</th><td>south    </td><td> 90164</td><td>0.2409192</td></tr>\n",
       "\t<tr><th scope=row>4</th><td>west     </td><td> 61802</td><td>0.1651356</td></tr>\n",
       "\t<tr><th scope=row>5</th><td>Total    </td><td>374250</td><td>1.0000000</td></tr>\n",
       "</tbody>\n",
       "</table>\n"
      ],
      "text/latex": [
       "A tabyl: 5 × 3\n",
       "\\begin{tabular}{r|lll}\n",
       "  & region & n & percent\\\\\n",
       "  & <fct> & <int> & <dbl>\\\\\n",
       "\\hline\n",
       "\t1 & midwest   & 145096 & 0.3876981\\\\\n",
       "\t2 & northeast &  77188 & 0.2062472\\\\\n",
       "\t3 & south     &  90164 & 0.2409192\\\\\n",
       "\t4 & west      &  61802 & 0.1651356\\\\\n",
       "\t5 & Total     & 374250 & 1.0000000\\\\\n",
       "\\end{tabular}\n"
      ],
      "text/markdown": [
       "\n",
       "A tabyl: 5 × 3\n",
       "\n",
       "| <!--/--> | region &lt;fct&gt; | n &lt;int&gt; | percent &lt;dbl&gt; |\n",
       "|---|---|---|---|\n",
       "| 1 | midwest   | 145096 | 0.3876981 |\n",
       "| 2 | northeast |  77188 | 0.2062472 |\n",
       "| 3 | south     |  90164 | 0.2409192 |\n",
       "| 4 | west      |  61802 | 0.1651356 |\n",
       "| 5 | Total     | 374250 | 1.0000000 |\n",
       "\n"
      ],
      "text/plain": [
       "  region    n      percent  \n",
       "1 midwest   145096 0.3876981\n",
       "2 northeast  77188 0.2062472\n",
       "3 south      90164 0.2409192\n",
       "4 west       61802 0.1651356\n",
       "5 Total     374250 1.0000000"
      ]
     },
     "metadata": {},
     "output_type": "display_data"
    },
    {
     "data": {
      "text/html": [
       "<table class=\"dataframe\">\n",
       "<caption>A tabyl: 2 × 5</caption>\n",
       "<thead>\n",
       "\t<tr><th scope=col>pop</th><th scope=col>midwest</th><th scope=col>northeast</th><th scope=col>south</th><th scope=col>west</th></tr>\n",
       "\t<tr><th scope=col>&lt;lgl&gt;</th><th scope=col>&lt;dbl&gt;</th><th scope=col>&lt;dbl&gt;</th><th scope=col>&lt;dbl&gt;</th><th scope=col>&lt;dbl&gt;</th></tr>\n",
       "</thead>\n",
       "<tbody>\n",
       "\t<tr><td>FALSE</td><td>0.3552958</td><td>0.7266026</td><td>0.92077769</td><td>0.7057215</td></tr>\n",
       "\t<tr><td> TRUE</td><td>0.6447042</td><td>0.2733974</td><td>0.07922231</td><td>0.2942785</td></tr>\n",
       "</tbody>\n",
       "</table>\n"
      ],
      "text/latex": [
       "A tabyl: 2 × 5\n",
       "\\begin{tabular}{lllll}\n",
       " pop & midwest & northeast & south & west\\\\\n",
       " <lgl> & <dbl> & <dbl> & <dbl> & <dbl>\\\\\n",
       "\\hline\n",
       "\t FALSE & 0.3552958 & 0.7266026 & 0.92077769 & 0.7057215\\\\\n",
       "\t  TRUE & 0.6447042 & 0.2733974 & 0.07922231 & 0.2942785\\\\\n",
       "\\end{tabular}\n"
      ],
      "text/markdown": [
       "\n",
       "A tabyl: 2 × 5\n",
       "\n",
       "| pop &lt;lgl&gt; | midwest &lt;dbl&gt; | northeast &lt;dbl&gt; | south &lt;dbl&gt; | west &lt;dbl&gt; |\n",
       "|---|---|---|---|---|\n",
       "| FALSE | 0.3552958 | 0.7266026 | 0.92077769 | 0.7057215 |\n",
       "|  TRUE | 0.6447042 | 0.2733974 | 0.07922231 | 0.2942785 |\n",
       "\n"
      ],
      "text/plain": [
       "  pop   midwest   northeast south      west     \n",
       "1 FALSE 0.3552958 0.7266026 0.92077769 0.7057215\n",
       "2  TRUE 0.6447042 0.2733974 0.07922231 0.2942785"
      ]
     },
     "metadata": {},
     "output_type": "display_data"
    },
    {
     "data": {
      "text/html": [
       "<table class=\"dataframe\">\n",
       "<caption>A tabyl: 5 × 6</caption>\n",
       "<thead>\n",
       "\t<tr><th></th><th scope=col>word_for_cola</th><th scope=col>midwest</th><th scope=col>northeast</th><th scope=col>south</th><th scope=col>west</th><th scope=col>Total</th></tr>\n",
       "\t<tr><th></th><th scope=col>&lt;chr&gt;</th><th scope=col>&lt;dbl&gt;</th><th scope=col>&lt;dbl&gt;</th><th scope=col>&lt;dbl&gt;</th><th scope=col>&lt;dbl&gt;</th><th scope=col>&lt;dbl&gt;</th></tr>\n",
       "</thead>\n",
       "<tbody>\n",
       "\t<tr><th scope=row>1</th><td>coke </td><td>0.012833667</td><td>0.004021376</td><td>0.11896326</td><td>0.014370073</td><td>0.15018838</td></tr>\n",
       "\t<tr><th scope=row>2</th><td>other</td><td>0.009095524</td><td>0.009624582</td><td>0.02063861</td><td>0.009921176</td><td>0.04927989</td></tr>\n",
       "\t<tr><th scope=row>3</th><td>pop  </td><td>0.249950568</td><td>0.056387442</td><td>0.01908617</td><td>0.048595858</td><td>0.37402004</td></tr>\n",
       "\t<tr><th scope=row>4</th><td>soda </td><td>0.115818303</td><td>0.136213761</td><td>0.08223113</td><td>0.092248497</td><td>0.42651169</td></tr>\n",
       "\t<tr><th scope=row>5</th><td>Total</td><td>0.387698063</td><td>0.206247161</td><td>0.24091917</td><td>0.165135605</td><td>1.00000000</td></tr>\n",
       "</tbody>\n",
       "</table>\n"
      ],
      "text/latex": [
       "A tabyl: 5 × 6\n",
       "\\begin{tabular}{r|llllll}\n",
       "  & word\\_for\\_cola & midwest & northeast & south & west & Total\\\\\n",
       "  & <chr> & <dbl> & <dbl> & <dbl> & <dbl> & <dbl>\\\\\n",
       "\\hline\n",
       "\t1 & coke  & 0.012833667 & 0.004021376 & 0.11896326 & 0.014370073 & 0.15018838\\\\\n",
       "\t2 & other & 0.009095524 & 0.009624582 & 0.02063861 & 0.009921176 & 0.04927989\\\\\n",
       "\t3 & pop   & 0.249950568 & 0.056387442 & 0.01908617 & 0.048595858 & 0.37402004\\\\\n",
       "\t4 & soda  & 0.115818303 & 0.136213761 & 0.08223113 & 0.092248497 & 0.42651169\\\\\n",
       "\t5 & Total & 0.387698063 & 0.206247161 & 0.24091917 & 0.165135605 & 1.00000000\\\\\n",
       "\\end{tabular}\n"
      ],
      "text/markdown": [
       "\n",
       "A tabyl: 5 × 6\n",
       "\n",
       "| <!--/--> | word_for_cola &lt;chr&gt; | midwest &lt;dbl&gt; | northeast &lt;dbl&gt; | south &lt;dbl&gt; | west &lt;dbl&gt; | Total &lt;dbl&gt; |\n",
       "|---|---|---|---|---|---|---|\n",
       "| 1 | coke  | 0.012833667 | 0.004021376 | 0.11896326 | 0.014370073 | 0.15018838 |\n",
       "| 2 | other | 0.009095524 | 0.009624582 | 0.02063861 | 0.009921176 | 0.04927989 |\n",
       "| 3 | pop   | 0.249950568 | 0.056387442 | 0.01908617 | 0.048595858 | 0.37402004 |\n",
       "| 4 | soda  | 0.115818303 | 0.136213761 | 0.08223113 | 0.092248497 | 0.42651169 |\n",
       "| 5 | Total | 0.387698063 | 0.206247161 | 0.24091917 | 0.165135605 | 1.00000000 |\n",
       "\n"
      ],
      "text/plain": [
       "  word_for_cola midwest     northeast   south      west        Total     \n",
       "1 coke          0.012833667 0.004021376 0.11896326 0.014370073 0.15018838\n",
       "2 other         0.009095524 0.009624582 0.02063861 0.009921176 0.04927989\n",
       "3 pop           0.249950568 0.056387442 0.01908617 0.048595858 0.37402004\n",
       "4 soda          0.115818303 0.136213761 0.08223113 0.092248497 0.42651169\n",
       "5 Total         0.387698063 0.206247161 0.24091917 0.165135605 1.00000000"
      ]
     },
     "metadata": {},
     "output_type": "display_data"
    }
   ],
   "source": [
    "# Load the data\n",
    "data(pop_vs_soda);\n",
    "\n",
    "pop_vs_soda %>% tabyl(region) %>% \n",
    "  adorn_totals(\"row\");\n",
    "\n",
    "# Summarize data by region\n",
    "pop_vs_soda %>% \n",
    "  tabyl(pop, region) %>% \n",
    "  adorn_percentages(\"col\");\n",
    "\n",
    "# Total data summary:\n",
    "pop_vs_soda %>% \n",
    "  tabyl(word_for_cola, region) %>% \n",
    "  adorn_percentages(\"all\") %>%\n",
    "  adorn_totals(c(\"row\", \"col\"));\n"
   ]
  },
  {
   "cell_type": "code",
   "execution_count": 45,
   "id": "a516407c-acc2-4044-8a12-7e69f9b1bee9",
   "metadata": {},
   "outputs": [
    {
     "data": {
      "text/html": [
       "0.3778887914"
      ],
      "text/latex": [
       "0.3778887914"
      ],
      "text/markdown": [
       "0.3778887914"
      ],
      "text/plain": [
       "[1] 0.3778888"
      ]
     },
     "metadata": {},
     "output_type": "display_data"
    }
   ],
   "source": [
    "# Prior model of U.S. region:\n",
    "# region: M    N    S    W   Total\n",
    "# P:     0.39 0.21 0.24 0.17 1\n",
    "# sum(c(0.39, 0.21, 0.24, 0.17));\n",
    "p_a = 0.6447042*0.39 + 0.2733974*0.21 + 0.07922231*0.24 + 0.2942785*0.17\n",
    "p_a"
   ]
  },
  {
   "cell_type": "code",
   "execution_count": 46,
   "id": "59336647-f2fd-4766-bb5e-9c303287c026",
   "metadata": {},
   "outputs": [
    {
     "data": {
      "text/html": [
       "0.0503146820776542"
      ],
      "text/latex": [
       "0.0503146820776542"
      ],
      "text/markdown": [
       "0.0503146820776542"
      ],
      "text/plain": [
       "[1] 0.050315"
      ]
     },
     "metadata": {},
     "output_type": "display_data"
    }
   ],
   "source": [
    "# posterior chance the inteviewee livs in the South P(S|A) = P(S) * P(A|S) / P(A)\n",
    "options(digits = 5); 0.24 * 0.07922231 / p_a"
   ]
  },
  {
   "cell_type": "markdown",
   "id": "0cc9ead8-1cf5-42c4-ad69-f334d22a6e98",
   "metadata": {},
   "source": [
    "# 2.3 Building a Bayesian model for random variables"
   ]
  },
  {
   "cell_type": "code",
   "execution_count": 20,
   "id": "e4128c79-1a58-4543-912b-0f518057d505",
   "metadata": {},
   "outputs": [],
   "source": [
    "# 2.3.7 Posterior simulation\n",
    "# Define possible win probabilities\n",
    "chess <- data.frame(pi = c(0.2, 0.5, 0.8))\n",
    "\n",
    "# Define the prior model\n",
    "prior <- c(0.10, 0.25, 0.65)"
   ]
  },
  {
   "cell_type": "code",
   "execution_count": 21,
   "id": "062dc6bf-4254-4898-b02a-261e8bbcc789",
   "metadata": {},
   "outputs": [],
   "source": [
    "# Simulate 10000 values of pi from the prior\n",
    "set.seed(84735)\n",
    "chess_sim <- sample_n(chess, size = 10000, weight = prior, replace = TRUE)"
   ]
  },
  {
   "cell_type": "code",
   "execution_count": 22,
   "id": "a47592e0-3c35-45bd-b21e-aaf8c507a850",
   "metadata": {},
   "outputs": [
    {
     "data": {
      "text/html": [
       "<table class=\"dataframe\">\n",
       "<caption>A data.frame: 3 × 2</caption>\n",
       "<thead>\n",
       "\t<tr><th></th><th scope=col>pi</th><th scope=col>y</th></tr>\n",
       "\t<tr><th></th><th scope=col>&lt;dbl&gt;</th><th scope=col>&lt;int&gt;</th></tr>\n",
       "</thead>\n",
       "<tbody>\n",
       "\t<tr><th scope=row>1</th><td>0.5</td><td>3</td></tr>\n",
       "\t<tr><th scope=row>2</th><td>0.5</td><td>3</td></tr>\n",
       "\t<tr><th scope=row>3</th><td>0.8</td><td>4</td></tr>\n",
       "</tbody>\n",
       "</table>\n"
      ],
      "text/latex": [
       "A data.frame: 3 × 2\n",
       "\\begin{tabular}{r|ll}\n",
       "  & pi & y\\\\\n",
       "  & <dbl> & <int>\\\\\n",
       "\\hline\n",
       "\t1 & 0.5 & 3\\\\\n",
       "\t2 & 0.5 & 3\\\\\n",
       "\t3 & 0.8 & 4\\\\\n",
       "\\end{tabular}\n"
      ],
      "text/markdown": [
       "\n",
       "A data.frame: 3 × 2\n",
       "\n",
       "| <!--/--> | pi &lt;dbl&gt; | y &lt;int&gt; |\n",
       "|---|---|---|\n",
       "| 1 | 0.5 | 3 |\n",
       "| 2 | 0.5 | 3 |\n",
       "| 3 | 0.8 | 4 |\n",
       "\n"
      ],
      "text/plain": [
       "  pi  y\n",
       "1 0.5 3\n",
       "2 0.5 3\n",
       "3 0.8 4"
      ]
     },
     "metadata": {},
     "output_type": "display_data"
    }
   ],
   "source": [
    "# Simulate 10000 match outcomes\n",
    "chess_sim <- chess_sim %>% mutate(y = rbinom(10000, size = 6, prob = pi))\n",
    "\n",
    "# Check it out\n",
    "chess_sim %>% head(3)"
   ]
  },
  {
   "cell_type": "code",
   "execution_count": 23,
   "id": "145ab8ea-3c46-4b34-bd38-4f9e61c56451",
   "metadata": {},
   "outputs": [
    {
     "data": {
      "text/html": [
       "<table class=\"dataframe\">\n",
       "<caption>A tabyl: 4 × 3</caption>\n",
       "<thead>\n",
       "\t<tr><th></th><th scope=col>pi</th><th scope=col>n</th><th scope=col>percent</th></tr>\n",
       "\t<tr><th></th><th scope=col>&lt;chr&gt;</th><th scope=col>&lt;int&gt;</th><th scope=col>&lt;dbl&gt;</th></tr>\n",
       "</thead>\n",
       "<tbody>\n",
       "\t<tr><th scope=row>1</th><td>0.2  </td><td> 1017</td><td>0.1017</td></tr>\n",
       "\t<tr><th scope=row>2</th><td>0.5  </td><td> 2521</td><td>0.2521</td></tr>\n",
       "\t<tr><th scope=row>3</th><td>0.8  </td><td> 6462</td><td>0.6462</td></tr>\n",
       "\t<tr><th scope=row>4</th><td>Total</td><td>10000</td><td>1.0000</td></tr>\n",
       "</tbody>\n",
       "</table>\n"
      ],
      "text/latex": [
       "A tabyl: 4 × 3\n",
       "\\begin{tabular}{r|lll}\n",
       "  & pi & n & percent\\\\\n",
       "  & <chr> & <int> & <dbl>\\\\\n",
       "\\hline\n",
       "\t1 & 0.2   &  1017 & 0.1017\\\\\n",
       "\t2 & 0.5   &  2521 & 0.2521\\\\\n",
       "\t3 & 0.8   &  6462 & 0.6462\\\\\n",
       "\t4 & Total & 10000 & 1.0000\\\\\n",
       "\\end{tabular}\n"
      ],
      "text/markdown": [
       "\n",
       "A tabyl: 4 × 3\n",
       "\n",
       "| <!--/--> | pi &lt;chr&gt; | n &lt;int&gt; | percent &lt;dbl&gt; |\n",
       "|---|---|---|---|\n",
       "| 1 | 0.2   |  1017 | 0.1017 |\n",
       "| 2 | 0.5   |  2521 | 0.2521 |\n",
       "| 3 | 0.8   |  6462 | 0.6462 |\n",
       "| 4 | Total | 10000 | 1.0000 |\n",
       "\n"
      ],
      "text/plain": [
       "  pi    n     percent\n",
       "1 0.2    1017 0.1017 \n",
       "2 0.5    2521 0.2521 \n",
       "3 0.8    6462 0.6462 \n",
       "4 Total 10000 1.0000 "
      ]
     },
     "metadata": {},
     "output_type": "display_data"
    }
   ],
   "source": [
    "# Summarize the prior\n",
    "chess_sim %>% \n",
    "  tabyl(pi) %>% \n",
    "  adorn_totals(\"row\")"
   ]
  },
  {
   "cell_type": "code",
   "execution_count": 24,
   "id": "8b543a90-a653-4ee0-9d31-e4f6fa628c46",
   "metadata": {},
   "outputs": [
    {
     "data": {
      "image/png": "[encoded data removed]",
      "text/plain": [
       "plot without title"
      ]
     },
     "metadata": {
      "image/png": {
       "height": 420,
       "width": 420
      }
     },
     "output_type": "display_data"
    }
   ],
   "source": [
    "# Plot y by pi\n",
    "ggplot(chess_sim, aes(x = y)) + \n",
    "  stat_count(aes(y = after_stat(prop))) + \n",
    "  facet_wrap(~ pi)"
   ]
  },
  {
   "cell_type": "code",
   "execution_count": 25,
   "id": "6522e5ee-6555-4c48-8f39-a436e6740af9",
   "metadata": {},
   "outputs": [
    {
     "data": {
      "text/html": [
       "<table class=\"dataframe\">\n",
       "<caption>A tabyl: 4 × 3</caption>\n",
       "<thead>\n",
       "\t<tr><th></th><th scope=col>pi</th><th scope=col>n</th><th scope=col>percent</th></tr>\n",
       "\t<tr><th></th><th scope=col>&lt;chr&gt;</th><th scope=col>&lt;int&gt;</th><th scope=col>&lt;dbl&gt;</th></tr>\n",
       "</thead>\n",
       "<tbody>\n",
       "\t<tr><th scope=row>1</th><td>0.2  </td><td>404</td><td>0.603886</td></tr>\n",
       "\t<tr><th scope=row>2</th><td>0.5  </td><td>253</td><td>0.378176</td></tr>\n",
       "\t<tr><th scope=row>3</th><td>0.8  </td><td> 12</td><td>0.017937</td></tr>\n",
       "\t<tr><th scope=row>4</th><td>Total</td><td>669</td><td>1.000000</td></tr>\n",
       "</tbody>\n",
       "</table>\n"
      ],
      "text/latex": [
       "A tabyl: 4 × 3\n",
       "\\begin{tabular}{r|lll}\n",
       "  & pi & n & percent\\\\\n",
       "  & <chr> & <int> & <dbl>\\\\\n",
       "\\hline\n",
       "\t1 & 0.2   & 404 & 0.603886\\\\\n",
       "\t2 & 0.5   & 253 & 0.378176\\\\\n",
       "\t3 & 0.8   &  12 & 0.017937\\\\\n",
       "\t4 & Total & 669 & 1.000000\\\\\n",
       "\\end{tabular}\n"
      ],
      "text/markdown": [
       "\n",
       "A tabyl: 4 × 3\n",
       "\n",
       "| <!--/--> | pi &lt;chr&gt; | n &lt;int&gt; | percent &lt;dbl&gt; |\n",
       "|---|---|---|---|\n",
       "| 1 | 0.2   | 404 | 0.603886 |\n",
       "| 2 | 0.5   | 253 | 0.378176 |\n",
       "| 3 | 0.8   |  12 | 0.017937 |\n",
       "| 4 | Total | 669 | 1.000000 |\n",
       "\n"
      ],
      "text/plain": [
       "  pi    n   percent \n",
       "1 0.2   404 0.603886\n",
       "2 0.5   253 0.378176\n",
       "3 0.8    12 0.017937\n",
       "4 Total 669 1.000000"
      ]
     },
     "metadata": {},
     "output_type": "display_data"
    }
   ],
   "source": [
    "# Focus on simulations with y = 1\n",
    "win_one <- chess_sim %>% \n",
    "  filter(y == 1)\n",
    "\n",
    "# Summarize the posterior approximation\n",
    "win_one %>% \n",
    "  tabyl(pi) %>% \n",
    "  adorn_totals(\"row\")"
   ]
  },
  {
   "cell_type": "code",
   "execution_count": 26,
   "id": "c1fb4c01-0f01-4103-924f-b1bd00af2d25",
   "metadata": {},
   "outputs": [
    {
     "data": {
      "image/png": "[encoded data removed]",
      "text/plain": [
       "plot without title"
      ]
     },
     "metadata": {
      "image/png": {
       "height": 420,
       "width": 420
      }
     },
     "output_type": "display_data"
    }
   ],
   "source": [
    "ggplot(win_one, aes(x = pi)) + \n",
    "  geom_bar()"
   ]
  }
 ],
 "metadata": {
  "kernelspec": {
   "display_name": "R",
   "language": "R",
   "name": "ir"
  },
  "language_info": {
   "codemirror_mode": "r",
   "file_extension": ".r",
   "mimetype": "text/x-r-source",
   "name": "R",
   "pygments_lexer": "r",
   "version": "4.1.2"
  }
 },
 "nbformat": 4,
 "nbformat_minor": 5
}
